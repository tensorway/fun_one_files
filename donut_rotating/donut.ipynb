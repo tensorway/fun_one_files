{
 "metadata": {
  "language_info": {
   "codemirror_mode": {
    "name": "ipython",
    "version": 3
   },
   "file_extension": ".py",
   "mimetype": "text/x-python",
   "name": "python",
   "nbconvert_exporter": "python",
   "pygments_lexer": "ipython3",
   "version": "3.8.2-final"
  },
  "orig_nbformat": 2,
  "kernelspec": {
   "name": "python38264bit41770f51cb494085b126429b02db281f",
   "display_name": "Python 3.8.2 64-bit"
  }
 },
 "nbformat": 4,
 "nbformat_minor": 2,
 "cells": [
  {
   "cell_type": "code",
   "execution_count": 1,
   "metadata": {},
   "outputs": [],
   "source": [
    "import numpy as np \n",
    "import cv2 \n",
    "import math\n",
    "import matplotlib.pyplot as plt\n",
    "\n",
    "def project(points, k):\n",
    "    projm = np.zeros_like(points)\n",
    "    mul = k/(k+points[:, -1])\n",
    "    ones = np.ones((points.shape[0], 2))\n",
    "    ones = ones*np.expand_dims(mul, axis=-1)\n",
    "    zeros = np.zeros((points.shape[0], 1))\n",
    "    projm = np.concatenate((ones, zeros), axis=1)\n",
    "    rez = projm*points\n",
    "    return rez[:, :-1]\n",
    "\n",
    "def draw_cross(img, x, y, size=1, color=255, thickness=1):\n",
    "    x, y = int(x), int(y)\n",
    "    p1 = (x, y-size)\n",
    "    p2 = (x, y+size)\n",
    "    p3 = (x-size, y)\n",
    "    p4 = (x+size, y)\n",
    "    # print(\"color\", color)\n",
    "    img = cv2.line(img, p1, p2, int(color), thickness)\n",
    "    img = cv2.line(img, p3, p4, int(color), thickness)\n",
    "    return img\n",
    "\n",
    "def draw_points(points, k, colors=None):\n",
    "    img = np.zeros((200, 200))\n",
    "    zbuff = np.zeros_like(img)+ float('inf')\n",
    "    points = points + 300 #change maybee???\n",
    "    proj_points = project(points, k).astype('int')\n",
    "    if colors is None:\n",
    "        colors = [255 for i in range(len(points))]\n",
    "    for p, proj, color in zip(points, proj_points, colors):\n",
    "        try:\n",
    "            if zbuff[proj[0], proj[1]] > p[2]:\n",
    "                zbuff[proj[0], proj[1]] = p[2]\n",
    "                img = draw_cross(img, proj[0], proj[1], color=color)\n",
    "        except:\n",
    "            pass\n",
    "    return img\n",
    "\n",
    "def rotate_points(points, xalpha=0, yalpha=0, zalpha=0):\n",
    "    sinx, cosx = math.sin(xalpha), math.cos(xalpha)\n",
    "    siny, cosy = math.sin(yalpha), math.cos(yalpha)\n",
    "    sinz, cosz = math.sin(zalpha), math.cos(zalpha)\n",
    "    xrot = [[1,    0,     0],\n",
    "            [0, cosx, -sinx],\n",
    "            [0, sinx,  cosx]]\n",
    "    xrot = np.array(xrot)\n",
    "    yrot = [[cosy, 0, -siny],\n",
    "            [0,    1,     0],\n",
    "            [siny, 0,  cosy]]\n",
    "    yrot = np.array(yrot)\n",
    "    zrot = [[cosz, -sinz, 0],\n",
    "            [sinz,  cosz, 0],\n",
    "            [0,        0, 1]]\n",
    "    zrot = np.array(zrot)\n",
    "\n",
    "    p2 = xrot@(yrot@(zrot@points.T))\n",
    "    return p2.T"
   ]
  },
  {
   "cell_type": "code",
   "execution_count": 113,
   "metadata": {
    "tags": []
   },
   "outputs": [
    {
     "output_type": "stream",
     "name": "stdout",
     "text": "298299"
    }
   ],
   "source": [
    "for i in range(0, 300):\n",
    "    angl = 3.14*2/100*i\n",
    "    nps = rotate_points(donut, zalpha=angl, xalpha=angl, yalpha=angl)\n",
    "    img = draw_points(nps, 200)\n",
    "    cv2.imshow('slika', img)\n",
    "    h = cv2.waitKey(15)\n",
    "    print(i, end='\\r')\n",
    "\n",
    "cv2.destroyAllWindows()"
   ]
  },
  {
   "cell_type": "code",
   "execution_count": 49,
   "metadata": {},
   "outputs": [],
   "source": [
    "cv2.destroyAllWindows()"
   ]
  },
  {
   "cell_type": "code",
   "execution_count": 99,
   "metadata": {},
   "outputs": [],
   "source": [
    "nper = 20\n",
    "\n",
    "angles = [3.14*2/nper*i for i in range(nper)]\n",
    "circle = [[math.cos(angl), math.sin(angl)] for angl in angles]\n",
    "cilindar = [[x, y, z] for z in range(1, 4) for x, y in circle]\n",
    "cilindar = np.array(cilindar)*100"
   ]
  },
  {
   "cell_type": "code",
   "execution_count": 2,
   "metadata": {},
   "outputs": [],
   "source": [
    "from math import cos, sin\n",
    "nper_L = 30\n",
    "nper_S = 10\n",
    "R = 0.8\n",
    "r = 0.2\n",
    "z0 = 1.5\n",
    "donut = []\n",
    "angles1 = [3.14*2/nper_L*i for i in range(nper_L)]\n",
    "angles2 = [3.14*2/nper_S*i for i in range(nper_S)]\n",
    "for angl1 in angles1:\n",
    "    for angl2 in angles2:\n",
    "        R2 = R+r*cos(angl2)\n",
    "        l = [R2*cos(angl1), r*sin(angl2), z0 - R2*sin(angl1)]\n",
    "        donut.append(l)\n",
    "\n",
    "donut = np.array(donut)*100\n",
    "\n",
    "\n",
    "donut_normal = []\n",
    "for angl1 in angles1:\n",
    "    for angl2 in angles2:\n",
    "        l = [R*cos(angl1), 0, z0 - R*sin(angl1)]\n",
    "        donut_normal.append(l)\n",
    "donut_normal = np.array(donut_normal)*100 - donut\n",
    "normalizer = np.linalg.norm(donut_normal, axis=1, keepdims=True)\n",
    "donut_normal /= normalizer"
   ]
  },
  {
   "cell_type": "code",
   "execution_count": 83,
   "metadata": {},
   "outputs": [],
   "source": [
    "ps = [[x, y, z] for x in range(-1, 2, 2) for y in range(-1, 2, 2) for z in range(1, 3)]\n",
    "ps = np.array(ps) *100\n",
    "cube = ps"
   ]
  },
  {
   "cell_type": "code",
   "execution_count": 105,
   "metadata": {
    "tags": []
   },
   "outputs": [
    {
     "output_type": "display_data",
     "data": {
      "text/plain": "<Figure size 432x288 with 1 Axes>",
      "image/svg+xml": "<?xml version=\"1.0\" encoding=\"utf-8\" standalone=\"no\"?>\n<!DOCTYPE svg PUBLIC \"-//W3C//DTD SVG 1.1//EN\"\n  \"http://www.w3.org/Graphics/SVG/1.1/DTD/svg11.dtd\">\n<!-- Created with matplotlib (https://matplotlib.org/) -->\n<svg height=\"251.773744pt\" version=\"1.1\" viewBox=\"0 0 257.9275 251.773744\" width=\"257.9275pt\" xmlns=\"http://www.w3.org/2000/svg\" xmlns:xlink=\"http://www.w3.org/1999/xlink\">\n <defs>\n  <style type=\"text/css\">\n*{stroke-linecap:butt;stroke-linejoin:round;}\n  </style>\n </defs>\n <g id=\"figure_1\">\n  <g id=\"patch_1\">\n   <path d=\"M 0 251.773744 \nL 257.9275 251.773744 \nL 257.9275 0 \nL 0 0 \nz\n\" style=\"fill:none;\"/>\n  </g>\n  <g id=\"axes_1\">\n   <g id=\"patch_2\">\n    <path d=\"M 33.2875 227.895619 \nL 250.7275 227.895619 \nL 250.7275 10.455619 \nL 33.2875 10.455619 \nz\n\" style=\"fill:#ffffff;\"/>\n   </g>\n   <g clip-path=\"url(#pa885cb6585)\">\n    <image height=\"218\" id=\"image92519bfc6b\" transform=\"scale(1 -1)translate(0 -218)\" width=\"218\" x=\"33.2875\" xlink:href=\"data:image/png;base64,\niVBORw0KGgoAAAANSUhEUgAAANoAAADaCAYAAADAHVzbAAAABHNCSVQICAgIfAhkiAAAAwFJREFUeJzt3MttAjEUQNFMyqCKFIFEAzRLF1SRNsiKBUJ8Nrkz4p2zma1t+cqLsbzsl+PlC/hX32sPACYQGgSEBgGhQUBoEBAaBIQGAaFBQGgQEBoEhAYBoUFAaBAQGgSEBgGhQUBoEBAaBIQGAaFBQGgQEBoEhAYBoUFAaBAQGgSEBgGhQUBoEBAaBIQGAaFBQGgQEBoEhAYBoUFAaBAQGgSEBgGhQUBoEBAaBIQGAaFBQGgQEBoEhAYBoUFAaBAQGgSEBgGhQUBoEBAaBIQGAaFBQGgQEBoEhAYBoUFAaBAQGgSEBgGhQUBoEBAaBIQGAaFBQGgQEBoEhPbC6fe89hA2zxq9JrQnrhvIRnrMGr1HaE8cdj83X+5Zo/cs++V4WXsQ8OmcaBAQGgSEBgGhQUBoEBAaBIQGAaFBQGgQEBoEhAYBoUFAaBAQGgSEBgGhQUBoEBgb2tQ3LqbOe20jQ5v6oMzUeW/ByNCmPigzdd5b4HEeCIw80aAmNAgIDQJCg4DQICA0CAgNAkKDgNAgIDQICA0CQoOA0CAgNAgIDQJCg4DQICA0CAgNAkKDgNAgIDQICA0CQoOA0CAgNAgIDQJCg4DQICA0CAgNAkKDgNAgIDQICA0CQoOA0CAgNAgIDQJCg4DQICA0CAgNAkKDgNAgIDQICA0CQoOA0F44/Z7XHsLmWaPXhPbEdQPZSI9Zo/cI7YnD7ufmyz1r9J5lvxwvaw8CPp0TDQJCg4DQICA0CAgNAkKDwNjQpv5gnTrvtY0Mbepthqnz3oKRoU29zTB13lvgZggERp5oUBMaBIQGAaFBQGgQEBoEhAYBoUFAaBAQGgSEBgGhQUBoEBAaBIQGAaFBQGgQEBoEhAYBoUFAaBAQGgSEBgGhQUBoEBAaBIQGAaFBQGgQEBoEhAYBoUFAaBAQGgSEBgGhQUBoEBAaBIQGAaFBQGgQEBoEhAYBoUFAaBAQGgSEBgGhQUBoEBAaBIQGAaFBQGgQEBoEhAYBoUFAaBAQGgSEBgGhQeAPcZJNIGTHXuMAAAAASUVORK5CYII=\" y=\"-9.895619\"/>\n   </g>\n   <g id=\"matplotlib.axis_1\">\n    <g id=\"xtick_1\">\n     <g id=\"line2d_1\">\n      <defs>\n       <path d=\"M 0 0 \nL 0 3.5 \n\" id=\"me188489a3f\" style=\"stroke:#000000;stroke-width:0.8;\"/>\n      </defs>\n      <g>\n       <use style=\"stroke:#000000;stroke-width:0.8;\" x=\"33.8311\" xlink:href=\"#me188489a3f\" y=\"227.895619\"/>\n      </g>\n     </g>\n     <g id=\"text_1\">\n      <!-- 0 -->\n      <defs>\n       <path d=\"M 31.78125 66.40625 \nQ 24.171875 66.40625 20.328125 58.90625 \nQ 16.5 51.421875 16.5 36.375 \nQ 16.5 21.390625 20.328125 13.890625 \nQ 24.171875 6.390625 31.78125 6.390625 \nQ 39.453125 6.390625 43.28125 13.890625 \nQ 47.125 21.390625 47.125 36.375 \nQ 47.125 51.421875 43.28125 58.90625 \nQ 39.453125 66.40625 31.78125 66.40625 \nz\nM 31.78125 74.21875 \nQ 44.046875 74.21875 50.515625 64.515625 \nQ 56.984375 54.828125 56.984375 36.375 \nQ 56.984375 17.96875 50.515625 8.265625 \nQ 44.046875 -1.421875 31.78125 -1.421875 \nQ 19.53125 -1.421875 13.0625 8.265625 \nQ 6.59375 17.96875 6.59375 36.375 \nQ 6.59375 54.828125 13.0625 64.515625 \nQ 19.53125 74.21875 31.78125 74.21875 \nz\n\" id=\"DejaVuSans-48\"/>\n      </defs>\n      <g transform=\"translate(30.64985 242.494056)scale(0.1 -0.1)\">\n       <use xlink:href=\"#DejaVuSans-48\"/>\n      </g>\n     </g>\n    </g>\n    <g id=\"xtick_2\">\n     <g id=\"line2d_2\">\n      <g>\n       <use style=\"stroke:#000000;stroke-width:0.8;\" x=\"88.1911\" xlink:href=\"#me188489a3f\" y=\"227.895619\"/>\n      </g>\n     </g>\n     <g id=\"text_2\">\n      <!-- 50 -->\n      <defs>\n       <path d=\"M 10.796875 72.90625 \nL 49.515625 72.90625 \nL 49.515625 64.59375 \nL 19.828125 64.59375 \nL 19.828125 46.734375 \nQ 21.96875 47.46875 24.109375 47.828125 \nQ 26.265625 48.1875 28.421875 48.1875 \nQ 40.625 48.1875 47.75 41.5 \nQ 54.890625 34.8125 54.890625 23.390625 \nQ 54.890625 11.625 47.5625 5.09375 \nQ 40.234375 -1.421875 26.90625 -1.421875 \nQ 22.3125 -1.421875 17.546875 -0.640625 \nQ 12.796875 0.140625 7.71875 1.703125 \nL 7.71875 11.625 \nQ 12.109375 9.234375 16.796875 8.0625 \nQ 21.484375 6.890625 26.703125 6.890625 \nQ 35.15625 6.890625 40.078125 11.328125 \nQ 45.015625 15.765625 45.015625 23.390625 \nQ 45.015625 31 40.078125 35.4375 \nQ 35.15625 39.890625 26.703125 39.890625 \nQ 22.75 39.890625 18.8125 39.015625 \nQ 14.890625 38.140625 10.796875 36.28125 \nz\n\" id=\"DejaVuSans-53\"/>\n      </defs>\n      <g transform=\"translate(81.8286 242.494056)scale(0.1 -0.1)\">\n       <use xlink:href=\"#DejaVuSans-53\"/>\n       <use x=\"63.623047\" xlink:href=\"#DejaVuSans-48\"/>\n      </g>\n     </g>\n    </g>\n    <g id=\"xtick_3\">\n     <g id=\"line2d_3\">\n      <g>\n       <use style=\"stroke:#000000;stroke-width:0.8;\" x=\"142.5511\" xlink:href=\"#me188489a3f\" y=\"227.895619\"/>\n      </g>\n     </g>\n     <g id=\"text_3\">\n      <!-- 100 -->\n      <defs>\n       <path d=\"M 12.40625 8.296875 \nL 28.515625 8.296875 \nL 28.515625 63.921875 \nL 10.984375 60.40625 \nL 10.984375 69.390625 \nL 28.421875 72.90625 \nL 38.28125 72.90625 \nL 38.28125 8.296875 \nL 54.390625 8.296875 \nL 54.390625 0 \nL 12.40625 0 \nz\n\" id=\"DejaVuSans-49\"/>\n      </defs>\n      <g transform=\"translate(133.00735 242.494056)scale(0.1 -0.1)\">\n       <use xlink:href=\"#DejaVuSans-49\"/>\n       <use x=\"63.623047\" xlink:href=\"#DejaVuSans-48\"/>\n       <use x=\"127.246094\" xlink:href=\"#DejaVuSans-48\"/>\n      </g>\n     </g>\n    </g>\n    <g id=\"xtick_4\">\n     <g id=\"line2d_4\">\n      <g>\n       <use style=\"stroke:#000000;stroke-width:0.8;\" x=\"196.9111\" xlink:href=\"#me188489a3f\" y=\"227.895619\"/>\n      </g>\n     </g>\n     <g id=\"text_4\">\n      <!-- 150 -->\n      <g transform=\"translate(187.36735 242.494056)scale(0.1 -0.1)\">\n       <use xlink:href=\"#DejaVuSans-49\"/>\n       <use x=\"63.623047\" xlink:href=\"#DejaVuSans-53\"/>\n       <use x=\"127.246094\" xlink:href=\"#DejaVuSans-48\"/>\n      </g>\n     </g>\n    </g>\n   </g>\n   <g id=\"matplotlib.axis_2\">\n    <g id=\"ytick_1\">\n     <g id=\"line2d_5\">\n      <defs>\n       <path d=\"M 0 0 \nL -3.5 0 \n\" id=\"mab83e31750\" style=\"stroke:#000000;stroke-width:0.8;\"/>\n      </defs>\n      <g>\n       <use style=\"stroke:#000000;stroke-width:0.8;\" x=\"33.2875\" xlink:href=\"#mab83e31750\" y=\"10.999219\"/>\n      </g>\n     </g>\n     <g id=\"text_5\">\n      <!-- 0 -->\n      <g transform=\"translate(19.925 14.798437)scale(0.1 -0.1)\">\n       <use xlink:href=\"#DejaVuSans-48\"/>\n      </g>\n     </g>\n    </g>\n    <g id=\"ytick_2\">\n     <g id=\"line2d_6\">\n      <g>\n       <use style=\"stroke:#000000;stroke-width:0.8;\" x=\"33.2875\" xlink:href=\"#mab83e31750\" y=\"38.179219\"/>\n      </g>\n     </g>\n     <g id=\"text_6\">\n      <!-- 25 -->\n      <defs>\n       <path d=\"M 19.1875 8.296875 \nL 53.609375 8.296875 \nL 53.609375 0 \nL 7.328125 0 \nL 7.328125 8.296875 \nQ 12.9375 14.109375 22.625 23.890625 \nQ 32.328125 33.6875 34.8125 36.53125 \nQ 39.546875 41.84375 41.421875 45.53125 \nQ 43.3125 49.21875 43.3125 52.78125 \nQ 43.3125 58.59375 39.234375 62.25 \nQ 35.15625 65.921875 28.609375 65.921875 \nQ 23.96875 65.921875 18.8125 64.3125 \nQ 13.671875 62.703125 7.8125 59.421875 \nL 7.8125 69.390625 \nQ 13.765625 71.78125 18.9375 73 \nQ 24.125 74.21875 28.421875 74.21875 \nQ 39.75 74.21875 46.484375 68.546875 \nQ 53.21875 62.890625 53.21875 53.421875 \nQ 53.21875 48.921875 51.53125 44.890625 \nQ 49.859375 40.875 45.40625 35.40625 \nQ 44.1875 33.984375 37.640625 27.21875 \nQ 31.109375 20.453125 19.1875 8.296875 \nz\n\" id=\"DejaVuSans-50\"/>\n      </defs>\n      <g transform=\"translate(13.5625 41.978437)scale(0.1 -0.1)\">\n       <use xlink:href=\"#DejaVuSans-50\"/>\n       <use x=\"63.623047\" xlink:href=\"#DejaVuSans-53\"/>\n      </g>\n     </g>\n    </g>\n    <g id=\"ytick_3\">\n     <g id=\"line2d_7\">\n      <g>\n       <use style=\"stroke:#000000;stroke-width:0.8;\" x=\"33.2875\" xlink:href=\"#mab83e31750\" y=\"65.359219\"/>\n      </g>\n     </g>\n     <g id=\"text_7\">\n      <!-- 50 -->\n      <g transform=\"translate(13.5625 69.158437)scale(0.1 -0.1)\">\n       <use xlink:href=\"#DejaVuSans-53\"/>\n       <use x=\"63.623047\" xlink:href=\"#DejaVuSans-48\"/>\n      </g>\n     </g>\n    </g>\n    <g id=\"ytick_4\">\n     <g id=\"line2d_8\">\n      <g>\n       <use style=\"stroke:#000000;stroke-width:0.8;\" x=\"33.2875\" xlink:href=\"#mab83e31750\" y=\"92.539219\"/>\n      </g>\n     </g>\n     <g id=\"text_8\">\n      <!-- 75 -->\n      <defs>\n       <path d=\"M 8.203125 72.90625 \nL 55.078125 72.90625 \nL 55.078125 68.703125 \nL 28.609375 0 \nL 18.3125 0 \nL 43.21875 64.59375 \nL 8.203125 64.59375 \nz\n\" id=\"DejaVuSans-55\"/>\n      </defs>\n      <g transform=\"translate(13.5625 96.338437)scale(0.1 -0.1)\">\n       <use xlink:href=\"#DejaVuSans-55\"/>\n       <use x=\"63.623047\" xlink:href=\"#DejaVuSans-53\"/>\n      </g>\n     </g>\n    </g>\n    <g id=\"ytick_5\">\n     <g id=\"line2d_9\">\n      <g>\n       <use style=\"stroke:#000000;stroke-width:0.8;\" x=\"33.2875\" xlink:href=\"#mab83e31750\" y=\"119.719219\"/>\n      </g>\n     </g>\n     <g id=\"text_9\">\n      <!-- 100 -->\n      <g transform=\"translate(7.2 123.518437)scale(0.1 -0.1)\">\n       <use xlink:href=\"#DejaVuSans-49\"/>\n       <use x=\"63.623047\" xlink:href=\"#DejaVuSans-48\"/>\n       <use x=\"127.246094\" xlink:href=\"#DejaVuSans-48\"/>\n      </g>\n     </g>\n    </g>\n    <g id=\"ytick_6\">\n     <g id=\"line2d_10\">\n      <g>\n       <use style=\"stroke:#000000;stroke-width:0.8;\" x=\"33.2875\" xlink:href=\"#mab83e31750\" y=\"146.899219\"/>\n      </g>\n     </g>\n     <g id=\"text_10\">\n      <!-- 125 -->\n      <g transform=\"translate(7.2 150.698437)scale(0.1 -0.1)\">\n       <use xlink:href=\"#DejaVuSans-49\"/>\n       <use x=\"63.623047\" xlink:href=\"#DejaVuSans-50\"/>\n       <use x=\"127.246094\" xlink:href=\"#DejaVuSans-53\"/>\n      </g>\n     </g>\n    </g>\n    <g id=\"ytick_7\">\n     <g id=\"line2d_11\">\n      <g>\n       <use style=\"stroke:#000000;stroke-width:0.8;\" x=\"33.2875\" xlink:href=\"#mab83e31750\" y=\"174.079219\"/>\n      </g>\n     </g>\n     <g id=\"text_11\">\n      <!-- 150 -->\n      <g transform=\"translate(7.2 177.878437)scale(0.1 -0.1)\">\n       <use xlink:href=\"#DejaVuSans-49\"/>\n       <use x=\"63.623047\" xlink:href=\"#DejaVuSans-53\"/>\n       <use x=\"127.246094\" xlink:href=\"#DejaVuSans-48\"/>\n      </g>\n     </g>\n    </g>\n    <g id=\"ytick_8\">\n     <g id=\"line2d_12\">\n      <g>\n       <use style=\"stroke:#000000;stroke-width:0.8;\" x=\"33.2875\" xlink:href=\"#mab83e31750\" y=\"201.259219\"/>\n      </g>\n     </g>\n     <g id=\"text_12\">\n      <!-- 175 -->\n      <g transform=\"translate(7.2 205.058437)scale(0.1 -0.1)\">\n       <use xlink:href=\"#DejaVuSans-49\"/>\n       <use x=\"63.623047\" xlink:href=\"#DejaVuSans-55\"/>\n       <use x=\"127.246094\" xlink:href=\"#DejaVuSans-53\"/>\n      </g>\n     </g>\n    </g>\n   </g>\n   <g id=\"patch_3\">\n    <path d=\"M 33.2875 227.895619 \nL 33.2875 10.455619 \n\" style=\"fill:none;stroke:#000000;stroke-linecap:square;stroke-linejoin:miter;stroke-width:0.8;\"/>\n   </g>\n   <g id=\"patch_4\">\n    <path d=\"M 250.7275 227.895619 \nL 250.7275 10.455619 \n\" style=\"fill:none;stroke:#000000;stroke-linecap:square;stroke-linejoin:miter;stroke-width:0.8;\"/>\n   </g>\n   <g id=\"patch_5\">\n    <path d=\"M 33.2875 227.895619 \nL 250.7275 227.895619 \n\" style=\"fill:none;stroke:#000000;stroke-linecap:square;stroke-linejoin:miter;stroke-width:0.8;\"/>\n   </g>\n   <g id=\"patch_6\">\n    <path d=\"M 33.2875 10.455619 \nL 250.7275 10.455619 \n\" style=\"fill:none;stroke:#000000;stroke-linecap:square;stroke-linejoin:miter;stroke-width:0.8;\"/>\n   </g>\n  </g>\n </g>\n <defs>\n  <clipPath id=\"pa885cb6585\">\n   <rect height=\"217.44\" width=\"217.44\" x=\"33.2875\" y=\"10.455619\"/>\n  </clipPath>\n </defs>\n</svg>\n",
      "image/png": "[encoded data removed]"
     },
     "metadata": {
      "needs_background": "light"
     }
    }
   ],
   "source": [
    "nps = rotate_points(cube, zalpha=3.14/2*0)\n",
    "img = draw_points(nps, 200)\n",
    "plt.imshow(img);"
   ]
  },
  {
   "cell_type": "code",
   "execution_count": 8,
   "metadata": {
    "tags": []
   },
   "outputs": [
    {
     "output_type": "stream",
     "name": "stdout",
     "text": "299"
    }
   ],
   "source": [
    "sq2 = math.sqrt(1/2)\n",
    "light = np.array([[0, sq2, sq2]])\n",
    "light = np.array([[0], [1], [0]])\n",
    "bins = np.array(list(range(256))).astype('int')/256\n",
    "\n",
    "\n",
    "for i in range(0, 300):\n",
    "    angl = 3.14*2/100*i\n",
    "    nps = donut\n",
    "    nps = rotate_points(donut, zalpha=angl, xalpha=angl, yalpha=angl)\n",
    "    normals = rotate_points(donut_normal, zalpha=angl, xalpha=angl, yalpha=angl)\n",
    "    # light = rotate_points(light, zalpha=angl, xalpha=angl, yalpha=angl)\n",
    "    # lighted = normals@np.expand_dims(light.squeeze(0), axis=-1)\n",
    "    lighted = normals@light\n",
    "    colors = np.digitize(lighted, bins).squeeze(-1).astype('int')\n",
    "    img = draw_points(nps, 200, colors=None)\n",
    "    cv2.imshow('slika', img)\n",
    "    h = cv2.waitKey(25)\n",
    "    print(i, end='\\r')\n",
    "\n",
    "cv2.destroyAllWindows()"
   ]
  },
  {
   "cell_type": "code",
   "execution_count": 119,
   "metadata": {},
   "outputs": [
    {
     "output_type": "execute_result",
     "data": {
      "text/plain": "array([ 52, 256, 256, 256, 256])"
     },
     "metadata": {},
     "execution_count": 119
    }
   ],
   "source": [
    "x = np.array([0.2, 6.4, 3.0, 1.6, 255])\n",
    "\n",
    "bins = np.array(list(range(256))).astype('int')/256\n",
    "\n",
    "inds = np.digitize(x, bins)\n",
    "inds"
   ]
  },
  {
   "cell_type": "code",
   "execution_count": 164,
   "metadata": {
    "tags": []
   },
   "outputs": [
    {
     "output_type": "display_data",
     "data": {
      "text/plain": "<Figure size 432x288 with 1 Axes>",
      "image/svg+xml": "<?xml version=\"1.0\" encoding=\"utf-8\" standalone=\"no\"?>\n<!DOCTYPE svg PUBLIC \"-//W3C//DTD SVG 1.1//EN\"\n  \"http://www.w3.org/Graphics/SVG/1.1/DTD/svg11.dtd\">\n<!-- Created with matplotlib (https://matplotlib.org/) -->\n<svg height=\"251.773744pt\" version=\"1.1\" viewBox=\"0 0 257.9275 251.773744\" width=\"257.9275pt\" xmlns=\"http://www.w3.org/2000/svg\" xmlns:xlink=\"http://www.w3.org/1999/xlink\">\n <defs>\n  <style type=\"text/css\">\n*{stroke-linecap:butt;stroke-linejoin:round;}\n  </style>\n </defs>\n <g id=\"figure_1\">\n  <g id=\"patch_1\">\n   <path d=\"M 0 251.773744 \nL 257.9275 251.773744 \nL 257.9275 0 \nL 0 0 \nz\n\" style=\"fill:none;\"/>\n  </g>\n  <g id=\"axes_1\">\n   <g id=\"patch_2\">\n    <path d=\"M 33.2875 227.895619 \nL 250.7275 227.895619 \nL 250.7275 10.455619 \nL 33.2875 10.455619 \nz\n\" style=\"fill:#ffffff;\"/>\n   </g>\n   <g clip-path=\"url(#p41779d2845)\">\n    <image height=\"218\" id=\"image692b81a680\" transform=\"scale(1 -1)translate(0 -218)\" width=\"218\" x=\"33.2875\" xlink:href=\"data:image/png;base64,\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\" y=\"-9.895619\"/>\n   </g>\n   <g id=\"matplotlib.axis_1\">\n    <g id=\"xtick_1\">\n     <g id=\"line2d_1\">\n      <defs>\n       <path d=\"M 0 0 \nL 0 3.5 \n\" id=\"m0ccce4d275\" style=\"stroke:#000000;stroke-width:0.8;\"/>\n      </defs>\n      <g>\n       <use style=\"stroke:#000000;stroke-width:0.8;\" x=\"33.8311\" xlink:href=\"#m0ccce4d275\" y=\"227.895619\"/>\n      </g>\n     </g>\n     <g id=\"text_1\">\n      <!-- 0 -->\n      <defs>\n       <path d=\"M 31.78125 66.40625 \nQ 24.171875 66.40625 20.328125 58.90625 \nQ 16.5 51.421875 16.5 36.375 \nQ 16.5 21.390625 20.328125 13.890625 \nQ 24.171875 6.390625 31.78125 6.390625 \nQ 39.453125 6.390625 43.28125 13.890625 \nQ 47.125 21.390625 47.125 36.375 \nQ 47.125 51.421875 43.28125 58.90625 \nQ 39.453125 66.40625 31.78125 66.40625 \nz\nM 31.78125 74.21875 \nQ 44.046875 74.21875 50.515625 64.515625 \nQ 56.984375 54.828125 56.984375 36.375 \nQ 56.984375 17.96875 50.515625 8.265625 \nQ 44.046875 -1.421875 31.78125 -1.421875 \nQ 19.53125 -1.421875 13.0625 8.265625 \nQ 6.59375 17.96875 6.59375 36.375 \nQ 6.59375 54.828125 13.0625 64.515625 \nQ 19.53125 74.21875 31.78125 74.21875 \nz\n\" id=\"DejaVuSans-48\"/>\n      </defs>\n      <g transform=\"translate(30.64985 242.494056)scale(0.1 -0.1)\">\n       <use xlink:href=\"#DejaVuSans-48\"/>\n      </g>\n     </g>\n    </g>\n    <g id=\"xtick_2\">\n     <g id=\"line2d_2\">\n      <g>\n       <use style=\"stroke:#000000;stroke-width:0.8;\" x=\"88.1911\" xlink:href=\"#m0ccce4d275\" y=\"227.895619\"/>\n      </g>\n     </g>\n     <g id=\"text_2\">\n      <!-- 50 -->\n      <defs>\n       <path d=\"M 10.796875 72.90625 \nL 49.515625 72.90625 \nL 49.515625 64.59375 \nL 19.828125 64.59375 \nL 19.828125 46.734375 \nQ 21.96875 47.46875 24.109375 47.828125 \nQ 26.265625 48.1875 28.421875 48.1875 \nQ 40.625 48.1875 47.75 41.5 \nQ 54.890625 34.8125 54.890625 23.390625 \nQ 54.890625 11.625 47.5625 5.09375 \nQ 40.234375 -1.421875 26.90625 -1.421875 \nQ 22.3125 -1.421875 17.546875 -0.640625 \nQ 12.796875 0.140625 7.71875 1.703125 \nL 7.71875 11.625 \nQ 12.109375 9.234375 16.796875 8.0625 \nQ 21.484375 6.890625 26.703125 6.890625 \nQ 35.15625 6.890625 40.078125 11.328125 \nQ 45.015625 15.765625 45.015625 23.390625 \nQ 45.015625 31 40.078125 35.4375 \nQ 35.15625 39.890625 26.703125 39.890625 \nQ 22.75 39.890625 18.8125 39.015625 \nQ 14.890625 38.140625 10.796875 36.28125 \nz\n\" id=\"DejaVuSans-53\"/>\n      </defs>\n      <g transform=\"translate(81.8286 242.494056)scale(0.1 -0.1)\">\n       <use xlink:href=\"#DejaVuSans-53\"/>\n       <use x=\"63.623047\" xlink:href=\"#DejaVuSans-48\"/>\n      </g>\n     </g>\n    </g>\n    <g id=\"xtick_3\">\n     <g id=\"line2d_3\">\n      <g>\n       <use style=\"stroke:#000000;stroke-width:0.8;\" x=\"142.5511\" xlink:href=\"#m0ccce4d275\" y=\"227.895619\"/>\n      </g>\n     </g>\n     <g id=\"text_3\">\n      <!-- 100 -->\n      <defs>\n       <path d=\"M 12.40625 8.296875 \nL 28.515625 8.296875 \nL 28.515625 63.921875 \nL 10.984375 60.40625 \nL 10.984375 69.390625 \nL 28.421875 72.90625 \nL 38.28125 72.90625 \nL 38.28125 8.296875 \nL 54.390625 8.296875 \nL 54.390625 0 \nL 12.40625 0 \nz\n\" id=\"DejaVuSans-49\"/>\n      </defs>\n      <g transform=\"translate(133.00735 242.494056)scale(0.1 -0.1)\">\n       <use xlink:href=\"#DejaVuSans-49\"/>\n       <use x=\"63.623047\" xlink:href=\"#DejaVuSans-48\"/>\n       <use x=\"127.246094\" xlink:href=\"#DejaVuSans-48\"/>\n      </g>\n     </g>\n    </g>\n    <g id=\"xtick_4\">\n     <g id=\"line2d_4\">\n      <g>\n       <use style=\"stroke:#000000;stroke-width:0.8;\" x=\"196.9111\" xlink:href=\"#m0ccce4d275\" y=\"227.895619\"/>\n      </g>\n     </g>\n     <g id=\"text_4\">\n      <!-- 150 -->\n      <g transform=\"translate(187.36735 242.494056)scale(0.1 -0.1)\">\n       <use xlink:href=\"#DejaVuSans-49\"/>\n       <use x=\"63.623047\" xlink:href=\"#DejaVuSans-53\"/>\n       <use x=\"127.246094\" xlink:href=\"#DejaVuSans-48\"/>\n      </g>\n     </g>\n    </g>\n   </g>\n   <g id=\"matplotlib.axis_2\">\n    <g id=\"ytick_1\">\n     <g id=\"line2d_5\">\n      <defs>\n       <path d=\"M 0 0 \nL -3.5 0 \n\" id=\"m24b65c790e\" style=\"stroke:#000000;stroke-width:0.8;\"/>\n      </defs>\n      <g>\n       <use style=\"stroke:#000000;stroke-width:0.8;\" x=\"33.2875\" xlink:href=\"#m24b65c790e\" y=\"10.999219\"/>\n      </g>\n     </g>\n     <g id=\"text_5\">\n      <!-- 0 -->\n      <g transform=\"translate(19.925 14.798437)scale(0.1 -0.1)\">\n       <use xlink:href=\"#DejaVuSans-48\"/>\n      </g>\n     </g>\n    </g>\n    <g id=\"ytick_2\">\n     <g id=\"line2d_6\">\n      <g>\n       <use style=\"stroke:#000000;stroke-width:0.8;\" x=\"33.2875\" xlink:href=\"#m24b65c790e\" y=\"38.179219\"/>\n      </g>\n     </g>\n     <g id=\"text_6\">\n      <!-- 25 -->\n      <defs>\n       <path d=\"M 19.1875 8.296875 \nL 53.609375 8.296875 \nL 53.609375 0 \nL 7.328125 0 \nL 7.328125 8.296875 \nQ 12.9375 14.109375 22.625 23.890625 \nQ 32.328125 33.6875 34.8125 36.53125 \nQ 39.546875 41.84375 41.421875 45.53125 \nQ 43.3125 49.21875 43.3125 52.78125 \nQ 43.3125 58.59375 39.234375 62.25 \nQ 35.15625 65.921875 28.609375 65.921875 \nQ 23.96875 65.921875 18.8125 64.3125 \nQ 13.671875 62.703125 7.8125 59.421875 \nL 7.8125 69.390625 \nQ 13.765625 71.78125 18.9375 73 \nQ 24.125 74.21875 28.421875 74.21875 \nQ 39.75 74.21875 46.484375 68.546875 \nQ 53.21875 62.890625 53.21875 53.421875 \nQ 53.21875 48.921875 51.53125 44.890625 \nQ 49.859375 40.875 45.40625 35.40625 \nQ 44.1875 33.984375 37.640625 27.21875 \nQ 31.109375 20.453125 19.1875 8.296875 \nz\n\" id=\"DejaVuSans-50\"/>\n      </defs>\n      <g transform=\"translate(13.5625 41.978437)scale(0.1 -0.1)\">\n       <use xlink:href=\"#DejaVuSans-50\"/>\n       <use x=\"63.623047\" xlink:href=\"#DejaVuSans-53\"/>\n      </g>\n     </g>\n    </g>\n    <g id=\"ytick_3\">\n     <g id=\"line2d_7\">\n      <g>\n       <use style=\"stroke:#000000;stroke-width:0.8;\" x=\"33.2875\" xlink:href=\"#m24b65c790e\" y=\"65.359219\"/>\n      </g>\n     </g>\n     <g id=\"text_7\">\n      <!-- 50 -->\n      <g transform=\"translate(13.5625 69.158437)scale(0.1 -0.1)\">\n       <use xlink:href=\"#DejaVuSans-53\"/>\n       <use x=\"63.623047\" xlink:href=\"#DejaVuSans-48\"/>\n      </g>\n     </g>\n    </g>\n    <g id=\"ytick_4\">\n     <g id=\"line2d_8\">\n      <g>\n       <use style=\"stroke:#000000;stroke-width:0.8;\" x=\"33.2875\" xlink:href=\"#m24b65c790e\" y=\"92.539219\"/>\n      </g>\n     </g>\n     <g id=\"text_8\">\n      <!-- 75 -->\n      <defs>\n       <path d=\"M 8.203125 72.90625 \nL 55.078125 72.90625 \nL 55.078125 68.703125 \nL 28.609375 0 \nL 18.3125 0 \nL 43.21875 64.59375 \nL 8.203125 64.59375 \nz\n\" id=\"DejaVuSans-55\"/>\n      </defs>\n      <g transform=\"translate(13.5625 96.338437)scale(0.1 -0.1)\">\n       <use xlink:href=\"#DejaVuSans-55\"/>\n       <use x=\"63.623047\" xlink:href=\"#DejaVuSans-53\"/>\n      </g>\n     </g>\n    </g>\n    <g id=\"ytick_5\">\n     <g id=\"line2d_9\">\n      <g>\n       <use style=\"stroke:#000000;stroke-width:0.8;\" x=\"33.2875\" xlink:href=\"#m24b65c790e\" y=\"119.719219\"/>\n      </g>\n     </g>\n     <g id=\"text_9\">\n      <!-- 100 -->\n      <g transform=\"translate(7.2 123.518437)scale(0.1 -0.1)\">\n       <use xlink:href=\"#DejaVuSans-49\"/>\n       <use x=\"63.623047\" xlink:href=\"#DejaVuSans-48\"/>\n       <use x=\"127.246094\" xlink:href=\"#DejaVuSans-48\"/>\n      </g>\n     </g>\n    </g>\n    <g id=\"ytick_6\">\n     <g id=\"line2d_10\">\n      <g>\n       <use style=\"stroke:#000000;stroke-width:0.8;\" x=\"33.2875\" xlink:href=\"#m24b65c790e\" y=\"146.899219\"/>\n      </g>\n     </g>\n     <g id=\"text_10\">\n      <!-- 125 -->\n      <g transform=\"translate(7.2 150.698437)scale(0.1 -0.1)\">\n       <use xlink:href=\"#DejaVuSans-49\"/>\n       <use x=\"63.623047\" xlink:href=\"#DejaVuSans-50\"/>\n       <use x=\"127.246094\" xlink:href=\"#DejaVuSans-53\"/>\n      </g>\n     </g>\n    </g>\n    <g id=\"ytick_7\">\n     <g id=\"line2d_11\">\n      <g>\n       <use style=\"stroke:#000000;stroke-width:0.8;\" x=\"33.2875\" xlink:href=\"#m24b65c790e\" y=\"174.079219\"/>\n      </g>\n     </g>\n     <g id=\"text_11\">\n      <!-- 150 -->\n      <g transform=\"translate(7.2 177.878437)scale(0.1 -0.1)\">\n       <use xlink:href=\"#DejaVuSans-49\"/>\n       <use x=\"63.623047\" xlink:href=\"#DejaVuSans-53\"/>\n       <use x=\"127.246094\" xlink:href=\"#DejaVuSans-48\"/>\n      </g>\n     </g>\n    </g>\n    <g id=\"ytick_8\">\n     <g id=\"line2d_12\">\n      <g>\n       <use style=\"stroke:#000000;stroke-width:0.8;\" x=\"33.2875\" xlink:href=\"#m24b65c790e\" y=\"201.259219\"/>\n      </g>\n     </g>\n     <g id=\"text_12\">\n      <!-- 175 -->\n      <g transform=\"translate(7.2 205.058437)scale(0.1 -0.1)\">\n       <use xlink:href=\"#DejaVuSans-49\"/>\n       <use x=\"63.623047\" xlink:href=\"#DejaVuSans-55\"/>\n       <use x=\"127.246094\" xlink:href=\"#DejaVuSans-53\"/>\n      </g>\n     </g>\n    </g>\n   </g>\n   <g id=\"patch_3\">\n    <path d=\"M 33.2875 227.895619 \nL 33.2875 10.455619 \n\" style=\"fill:none;stroke:#000000;stroke-linecap:square;stroke-linejoin:miter;stroke-width:0.8;\"/>\n   </g>\n   <g id=\"patch_4\">\n    <path d=\"M 250.7275 227.895619 \nL 250.7275 10.455619 \n\" style=\"fill:none;stroke:#000000;stroke-linecap:square;stroke-linejoin:miter;stroke-width:0.8;\"/>\n   </g>\n   <g id=\"patch_5\">\n    <path d=\"M 33.2875 227.895619 \nL 250.7275 227.895619 \n\" style=\"fill:none;stroke:#000000;stroke-linecap:square;stroke-linejoin:miter;stroke-width:0.8;\"/>\n   </g>\n   <g id=\"patch_6\">\n    <path d=\"M 33.2875 10.455619 \nL 250.7275 10.455619 \n\" style=\"fill:none;stroke:#000000;stroke-linecap:square;stroke-linejoin:miter;stroke-width:0.8;\"/>\n   </g>\n  </g>\n </g>\n <defs>\n  <clipPath id=\"p41779d2845\">\n   <rect height=\"217.44\" width=\"217.44\" x=\"33.2875\" y=\"10.455619\"/>\n  </clipPath>\n </defs>\n</svg>\n",
      "image/png": "[encoded data removed]"
     },
     "metadata": {
      "needs_background": "light"
     }
    }
   ],
   "source": [
    "cv2.destroyAllWindows()\n",
    "img[100:150, 100:150]\n",
    "plt.imshow(img);"
   ]
  },
  {
   "cell_type": "code",
   "execution_count": 170,
   "metadata": {},
   "outputs": [],
   "source": [
    "cv2.imshow('slika', imgcat)\n",
    "h = cv2.waitKey(0)\n",
    "cv2.destroyAllWindows()"
   ]
  },
  {
   "cell_type": "code",
   "execution_count": 169,
   "metadata": {},
   "outputs": [
    {
     "output_type": "execute_result",
     "data": {
      "text/plain": "(200, 200, 3)"
     },
     "metadata": {},
     "execution_count": 169
    }
   ],
   "source": [
    "imgcat.shape"
   ]
  }
 ]
}