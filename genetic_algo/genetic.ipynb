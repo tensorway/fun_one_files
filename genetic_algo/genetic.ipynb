{
 "cells": [
  {
   "cell_type": "markdown",
   "source": [
    "# Genetic algorithm\n",
    "\n",
    "simple genetic algorithm that evolves polynomials to fit desired points.\n",
    "Takes top p-percent of the population and reproduces it, while killing the bottom p-percent"
   ],
   "metadata": {}
  },
  {
   "cell_type": "code",
   "execution_count": 50,
   "source": [
    "import matplotlib.pyplot as plt\n",
    "import numpy as np\n",
    "from tqdm import tqdm\n",
    "import cv2\n",
    "\n",
    "POPULATION_SIZE = 5000\n",
    "N_GENERATIONS = 20000\n",
    "POLYNOMIAL_DEGREE = 10\n",
    "TOP_PERCENT = 0.3\n",
    "SHOW_IMAGE_EVERY_NTH_FRAME = 1000\n",
    "TRANSCRIPTION_ERROR_SIZE = 0.1\n",
    "\n",
    "top_n = int(POPULATION_SIZE*TOP_PERCENT)\n",
    "\n",
    "points2fit = np.array([[1, 2, 3, 4, 5, 6]])\n",
    "point_values = np.array([[0, 5, 0, 5, 0, 5]])*1000\n",
    "population = np.random.uniform(-10, 10, (POPULATION_SIZE, POLYNOMIAL_DEGREE+1))"
   ],
   "outputs": [],
   "metadata": {}
  },
  {
   "cell_type": "markdown",
   "source": [
    "Some functions to make code more organized"
   ],
   "metadata": {}
  },
  {
   "cell_type": "code",
   "execution_count": 51,
   "source": [
    "def make_intermediar(points2fit):\n",
    "    intermediar = points2fit.repeat(POLYNOMIAL_DEGREE, axis=0)\n",
    "    for i, row in enumerate(intermediar):\n",
    "        intermediar[i] = row**(i+1)\n",
    "    return np.concatenate((np.ones((1, points2fit.shape[1])), intermediar), axis=0)\n",
    "\n",
    "def get_image(points2fit, intermediar, tops, point_values, img_name, n_interpol=100):\n",
    "    x = np.linspace(np.min(points2fit), np.max(points2fit),n_interpol)\n",
    "    x = np.expand_dims(x, axis=0)\n",
    "    intermediar = make_intermediar(x)\n",
    "    y = tops@intermediar\n",
    "\n",
    "    colors = ['r', 'g', 'b', 'black', 'y', 'purple']\n",
    "\n",
    "    plt.clf()\n",
    "    for i, y1 in enumerate(y):\n",
    "        plt.plot(x[0],y1, 'b')\n",
    "    plt.scatter(points2fit[0], point_values[0], color='r')\n",
    "\n",
    "    # not the most efficient way but simple\n",
    "    plt.title(img_name.split('.')[0].split('/')[-1] + f'th generation, polynomial_degree={POLYNOMIAL_DEGREE}, population_size={POPULATION_SIZE}')\n",
    "    plt.savefig(img_name)\n",
    "    return cv2.imread(img_name)"
   ],
   "outputs": [],
   "metadata": {}
  },
  {
   "cell_type": "markdown",
   "source": [
    "# Run the evolution \n",
    "\n",
    "for N_GENERATIONS and get the population sorted by its fitness.\n",
    "save images in a quick and dirty way to create a gif"
   ],
   "metadata": {}
  },
  {
   "cell_type": "code",
   "execution_count": 52,
   "source": [
    "intermediar = make_intermediar(points2fit)\n",
    "point_values_all = point_values.repeat(POPULATION_SIZE, axis=0)\n",
    "iimg = 0\n",
    "img_filenames = []\n",
    "\n",
    "for igeneration in tqdm(range(N_GENERATIONS)):\n",
    "    fitness = ((population@intermediar - point_values_all)**2).sum(axis=1)\n",
    "    sorted_population = population[(fitness).argsort()]\n",
    "    top = sorted_population[:top_n] + np.random.randn(top_n, POLYNOMIAL_DEGREE+1)*TRANSCRIPTION_ERROR_SIZE\n",
    "    sorted_population[-top_n:] = top\n",
    "    population = sorted_population\n",
    "    if igeneration % SHOW_IMAGE_EVERY_NTH_FRAME == 0:\n",
    "        img_filenames.append('imgs/'+str(iimg*SHOW_IMAGE_EVERY_NTH_FRAME)+'.png')\n",
    "        img = get_image(points2fit, intermediar, sorted_population[:30], point_values, img_name=img_filenames[-1])\n",
    "        iimg += 1\n",
    "        cv2.imshow('best', img)\n",
    "        if cv2.waitKey(25) & 0xFF == ord('q'):\n",
    "            break\n",
    "fitness = ((population@intermediar - point_values_all)**2).sum(axis=1)\n",
    "sorted_population = population[fitness.argsort()]"
   ],
   "outputs": [
    {
     "output_type": "stream",
     "name": "stderr",
     "text": [
      "100%|██████████| 20000/20000 [01:55<00:00, 172.91it/s]\n"
     ]
    },
    {
     "output_type": "display_data",
     "data": {
      "image/png": "[encoded data removed]",
      "text/plain": [
       "<Figure size 432x288 with 1 Axes>"
      ]
     },
     "metadata": {
      "needs_background": "light"
     }
    }
   ],
   "metadata": {}
  },
  {
   "cell_type": "markdown",
   "source": [
    "## generate a gif"
   ],
   "metadata": {}
  },
  {
   "cell_type": "code",
   "execution_count": 49,
   "source": [
    "import imageio\n",
    "import glob\n",
    "images = []\n",
    "paths = glob.glob('imgs/*')\n",
    "paths.sort()\n",
    "for filename in img_filenames:\n",
    "    images.append(imageio.imread(filename))\n",
    "imageio.mimsave(f'POPULATION_SIZE={POPULATION_SIZE} POLYNOMIAL_DEGREE={POLYNOMIAL_DEGREE}.gif', images, duration=1/10)"
   ],
   "outputs": [],
   "metadata": {}
  },
  {
   "cell_type": "markdown",
   "source": [
    "## remove images if they are not needed"
   ],
   "metadata": {}
  },
  {
   "cell_type": "code",
   "execution_count": 47,
   "source": [
    "! rm imgs/*"
   ],
   "outputs": [],
   "metadata": {}
  },
  {
   "cell_type": "code",
   "execution_count": null,
   "source": [],
   "outputs": [],
   "metadata": {}
  }
 ],
 "metadata": {
  "orig_nbformat": 4,
  "language_info": {
   "name": "python",
   "version": "3.8.10",
   "mimetype": "text/x-python",
   "codemirror_mode": {
    "name": "ipython",
    "version": 3
   },
   "pygments_lexer": "ipython3",
   "nbconvert_exporter": "python",
   "file_extension": ".py"
  },
  "kernelspec": {
   "name": "python3",
   "display_name": "Python 3.8.10 64-bit"
  },
  "interpreter": {
   "hash": "916dbcbb3f70747c44a77c7bcd40155683ae19c65e1c03b4aa3499c5328201f1"
  }
 },
 "nbformat": 4,
 "nbformat_minor": 2
}