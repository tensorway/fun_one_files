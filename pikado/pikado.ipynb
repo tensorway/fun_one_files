{
 "cells": [
  {
   "cell_type": "code",
   "execution_count": 27,
   "metadata": {},
   "outputs": [],
   "source": [
    "import cv2\n",
    "import numpy as np\n",
    "import matplotlib.pyplot as plt\n",
    "import math\n",
    "\n",
    "class Darts():\n",
    "\n",
    "    def __init__(self):\n",
    "        self.radii = [250, 225, 215, 170, 160, 100, 90, 25, 15]\n",
    "        self.img = np.ones((600, 600), dtype=np.uint8)*255\n",
    "        self.points = np.zeros(self.img.shape)\n",
    "        self.center = (len(self.img)//2, len(self.img)//2)\n",
    "        self.numbers = [13, 6, 10, 15, 2, 17, 3, 19, 7, 16, 8, 11, 14, 9, 12, 5, 20, 1, 18, 4]\n",
    "        self.numbers_score = [6, 10, 15, 2, 17, 3, 19, 7, 16, 8, 11, 14, 9, 12, 5, 20, 1, 18, 4, 13]\n",
    "        self.draw_new()\n",
    "\n",
    "    def draw_new(self):\n",
    "        self.number_angles = []\n",
    "\n",
    "        for radius in self.radii:\n",
    "            self.img = cv2.circle(self.img, self.center, radius, (0, 0, 0), 3)\n",
    "\n",
    "        nsections = 20\n",
    "        start_angl = -3.14/nsections\n",
    "        delta_angl = 2*3.14/nsections\n",
    "        for i in range(nsections+1):\n",
    "            r = self.radii[1]\n",
    "            angle = i*delta_angl + start_angl\n",
    "            self.number_angles.append(angle)\n",
    "            otherp = (int(math.cos(angle)*r), int(math.sin(angle)*r))\n",
    "            otherp = (otherp[0]+self.center[0], otherp[1]+self.center[1])\n",
    "            self.img = cv2.line(self.img, self.center, otherp, (0, 255, 0), 2)\n",
    "\n",
    "        r = self.radii[0] + 30\n",
    "\n",
    "        for num, angle in zip(self.numbers, self.number_angles[:-1]):\n",
    "            angle += start_angl\n",
    "            self._put_numbers(num, r, angle)\n",
    "            # pass\n",
    "\n",
    "\n",
    "        return self.img\n",
    "\n",
    "    def show(self):\n",
    "        plt.imshow(self.img.astype(np.float))\n",
    "\n",
    "    def get_score(self, x, y):\n",
    "        r, angle = self._to_polar(x, y)\n",
    "        if angle < 0:\n",
    "            angle += 2*3.14\n",
    "        mult = 1\n",
    "        score = 0\n",
    "        if r >= self.radii[1]:\n",
    "            mult = 0\n",
    "        elif self.radii[-7] >= r >= self.radii[-6]:\n",
    "            mult = 2\n",
    "        elif self.radii[-6] >= r >= self.radii[-5]:\n",
    "            mult = 1\n",
    "        elif self.radii[-5] >= r >= self.radii[-4]:\n",
    "            mult = 3\n",
    "        elif self.radii[-4] >= r >= self.radii[-3]:\n",
    "            mult = 1\n",
    "        elif self.radii[-3] >= r >= self.radii[-2]:\n",
    "            mult = 4\n",
    "        elif self.radii[-2] >= r >= self.radii[-1]:\n",
    "            return 25\n",
    "        else:\n",
    "            return 50\n",
    "\n",
    "        for num, frst, secnd in zip(self.numbers_score, self.number_angles[:-1], self.number_angles[1:]):\n",
    "            if frst < angle < secnd:\n",
    "                score = num\n",
    "                break\n",
    "        return num*mult\n",
    "        \n",
    "\n",
    "    def _to_polar(self, x, y):\n",
    "        r = math.sqrt((x-self.center[0])**2 + (y-self.center[1])**2)\n",
    "        angle = math.atan2(y-self.center[1], x-self.center[0])\n",
    "        return r, angle\n",
    "\n",
    "    def _put_numbers(self, n, r, angle):\n",
    "        text = str(n)\n",
    "        font = cv2.FONT_HERSHEY_SIMPLEX \n",
    "        x, y = self._cart2pol(r, angle)\n",
    "        orig = (int(x)+self.center[0]-20, int(y)+self.center[1]+10)\n",
    "        fontScale = 1\n",
    "        color = (0, 0, 250)   \n",
    "        thickness = 2   \n",
    "        # print(orig, int(x), int(y), text, self.center)\n",
    "        self.img = cv2.putText(self.img, text, orig, font, fontScale,  \n",
    "                        color, thickness, cv2.LINE_AA, False) \n",
    "\n",
    "    def _cart2pol(self, r, angle):\n",
    "        x = math.cos(angle)*r\n",
    "        y = math.sin(angle)*r\n",
    "        return x, y\n",
    "\n",
    "    def draw_dart(self, x, y, size=20, color=(0, 255, 0), thickness=10):\n",
    "        x, y = int(x), int(y)\n",
    "        p1 = (x, y-size)\n",
    "        p2 = (x, y+size)\n",
    "        p3 = (x-size, y)\n",
    "        p4 = (x+size, y)\n",
    "        self.img = cv2.line(self.img, p1, p2, color, thickness)\n",
    "        self.img = cv2.line(self.img, p3, p4, color, thickness)\n",
    "\n",
    "    def draw_gaussian(self, mu, cov, x0=None, y0=None, ndraw=10):\n",
    "        if x0 is None:\n",
    "            x0 = self.center[0]\n",
    "        if y0 is None:\n",
    "            y0 = self.center[1]\n",
    "        xt, yt = np.random.multivariate_normal(mu, cov, ndraw).T\n",
    "        for xthrow, ythrow in zip(xt, yt):\n",
    "            self.draw_dart(xthrow, ythrow, size=10, thickness=5)\n",
    "\n",
    "    def get_best(self, cov, nthrow=10, xstride=1, ystride=1):\n",
    "        maxpoints = float('-inf')\n",
    "        coor = (-1, -1)\n",
    "        for x in range(50, 550, xstride):\n",
    "            print(int(x/550*100), \"%\", end='\\r')\n",
    "            for y in range(50, 550, ystride):\n",
    "                mean = [x, y]\n",
    "                xt, yt = np.random.multivariate_normal(mean, cov, nthrow).T\n",
    "                points = 0\n",
    "                for xthrow, ythrow in zip(xt, yt):\n",
    "                    points += self.get_score(xthrow, ythrow)\n",
    "                self.points[x, y] = points\n",
    "                # print(x, y, points, len(xt), xt)\n",
    "                if points > maxpoints:\n",
    "                    maxpoints = points\n",
    "                    coor = (x, -y)\n",
    "\n",
    "        return self.points, maxpoints, coor\n",
    "\n",
    "    def draw_points(self):\n",
    "        plt.imshow(self.points)\n"
   ]
  },
  {
   "cell_type": "code",
   "execution_count": 28,
   "metadata": {},
   "outputs": [
    {
     "data": {
      "image/png": "[encoded data removed]",
      "text/plain": [
       "<Figure size 432x288 with 1 Axes>"
      ]
     },
     "metadata": {
      "needs_background": "light"
     },
     "output_type": "display_data"
    }
   ],
   "source": [
    "darts = Darts()\n",
    "mu = [300, 300]\n",
    "cov = [[1, 0], [0, 1]]\n",
    "darts.draw_gaussian(mu, cov, ndraw=100)\n",
    "darts.show()\n"
   ]
  },
  {
   "cell_type": "code",
   "execution_count": 19,
   "metadata": {
    "tags": []
   },
   "outputs": [
    {
     "name": "stdout",
     "output_type": "stream",
     "text": [
      "99 %\r"
     ]
    },
    {
     "data": {
      "text/plain": [
       "(array([[0., 0., 0., ..., 0., 0., 0.],\n",
       "        [0., 0., 0., ..., 0., 0., 0.],\n",
       "        [0., 0., 0., ..., 0., 0., 0.],\n",
       "        ...,\n",
       "        [0., 0., 0., ..., 0., 0., 0.],\n",
       "        [0., 0., 0., ..., 0., 0., 0.],\n",
       "        [0., 0., 0., ..., 0., 0., 0.]]),\n",
       " 320,\n",
       " (285, -203))"
      ]
     },
     "execution_count": 19,
     "metadata": {},
     "output_type": "execute_result"
    }
   ],
   "source": [
    "darts = Darts()\n",
    "# cov = [[1, 0], [0, 100]]\n",
    "darts.get_best(cov, nthrow=4, xstride=1, ystride=1)"
   ]
  },
  {
   "cell_type": "code",
   "execution_count": 20,
   "metadata": {},
   "outputs": [
    {
     "data": {
      "image/png": "[encoded data removed]",
      "text/plain": [
       "<Figure size 432x288 with 1 Axes>"
      ]
     },
     "metadata": {
      "needs_background": "light"
     },
     "output_type": "display_data"
    }
   ],
   "source": [
    "darts.draw_points()"
   ]
  },
  {
   "cell_type": "code",
   "execution_count": 29,
   "metadata": {},
   "outputs": [
    {
     "data": {
      "text/plain": [
       "12"
      ]
     },
     "execution_count": 29,
     "metadata": {},
     "output_type": "execute_result"
    },
    {
     "data": {
      "image/png": "[encoded data removed]",
      "text/plain": [
       "<Figure size 432x288 with 1 Axes>"
      ]
     },
     "metadata": {
      "needs_background": "light"
     },
     "output_type": "display_data"
    }
   ],
   "source": [
    "darts = Darts()\n",
    "darts.draw_dart(300, 350)\n",
    "darts.show()\n",
    "darts.get_score(300, 350)"
   ]
  },
  {
   "cell_type": "code",
   "execution_count": 144,
   "metadata": {
    "tags": []
   },
   "outputs": [
    {
     "name": "stdout",
     "output_type": "stream",
     "text": [
      "13 7.666666666666667\n",
      "6 9.666666666666666\n",
      "10 10.333333333333334\n",
      "15 9.0\n",
      "2 11.333333333333334\n",
      "17 7.333333333333333\n",
      "3 13.0\n",
      "19 9.666666666666666\n",
      "7 14.0\n",
      "16 10.333333333333334\n",
      "8 11.666666666666666\n",
      "11 11.0\n",
      "14 11.333333333333334\n",
      "9 11.666666666666666\n",
      "12 8.666666666666666\n",
      "5 12.333333333333334\n",
      "20 8.666666666666666\n",
      "1 13.0\n",
      "18 7.666666666666667\n",
      "4 11.666666666666666\n"
     ]
    }
   ],
   "source": [
    "l = [13, 6, 10, 15, 2, 17, 3, 19, 7, 16, 8, 11, 14, 9, 12, 5, 20, 1, 18, 4]\n",
    "for i in range(len(l)):\n",
    "    r = (l[i]+l[(i+1)%len(l)]+l[(i-1)%len(l)])/3\n",
    "    print(l[i], r)"
   ]
  },
  {
   "cell_type": "code",
   "execution_count": null,
   "metadata": {},
   "outputs": [],
   "source": []
  }
 ],
 "metadata": {
  "kernelspec": {
   "display_name": "Python 3.8.2 64-bit",
   "language": "python",
   "name": "python38264bit41770f51cb494085b126429b02db281f"
  },
  "language_info": {
   "codemirror_mode": {
    "name": "ipython",
    "version": 3
   },
   "file_extension": ".py",
   "mimetype": "text/x-python",
   "name": "python",
   "nbconvert_exporter": "python",
   "pygments_lexer": "ipython3",
   "version": "3.8.2"
  }
 },
 "nbformat": 4,
 "nbformat_minor": 4
}
