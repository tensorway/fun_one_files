{
 "metadata": {
  "language_info": {
   "codemirror_mode": {
    "name": "ipython",
    "version": 3
   },
   "file_extension": ".py",
   "mimetype": "text/x-python",
   "name": "python",
   "nbconvert_exporter": "python",
   "pygments_lexer": "ipython3",
   "version": "3.8.2-final"
  },
  "orig_nbformat": 2,
  "kernelspec": {
   "name": "python38264bit41770f51cb494085b126429b02db281f",
   "display_name": "Python 3.8.2 64-bit"
  }
 },
 "nbformat": 4,
 "nbformat_minor": 2,
 "cells": [
  {
   "cell_type": "code",
   "execution_count": 107,
   "metadata": {},
   "outputs": [],
   "source": [
    "class Variable():\n",
    "    def __init__(self, x, born_fn=None, reqires_grad=True):\n",
    "        self.x = x\n",
    "        self.born_fn = born_fn\n",
    "        self.grad = 0\n",
    "        self.reqires_grad =reqires_grad\n",
    "    def backward(self, grad=1):\n",
    "        if not self.reqires_grad:\n",
    "            return \n",
    "        self.grad += grad\n",
    "        if self.born_fn is not None:\n",
    "            self.born_fn.backward(grad)\n",
    "\n",
    "    def __str__(self):\n",
    "        return \"Variable( x=\"+str(self.x)[:7] + \" requires_grad=\" + str(self.reqires_grad) + \" grad=\" + str(self.grad)[:7] + \" born_fn=\" + str(self.born_fn) +\" )\"\n",
    "    def __repr__(self):\n",
    "        return self.__str__()\n",
    "\n",
    "    def __add__(self, other):     return VariableAdd().forward(self, other)\n",
    "    def __sub__(self, other):     return VariableSub().forward(self, other)\n",
    "    def __mul__(self, other):     return VariableMul().forward(self, other)    \n",
    "    def __truediv__(self, other): return VariableDiv().forward(self, other)\n",
    "\n",
    "class VariableBase():\n",
    "    def transform(self, x):\n",
    "        if not isinstance(x, Variable):\n",
    "            return Variable(x)\n",
    "        return x\n",
    "\n",
    "class VariableAdd(VariableBase):\n",
    "    def forward(self, a, b):\n",
    "        self.a, self.b = self.transform(a), self.transform(b)\n",
    "        rez = self.a.x + self.b.x\n",
    "        reqires_grad = self.a.reqires_grad or self.b.reqires_grad\n",
    "        return Variable(rez, born_fn=self, reqires_grad=reqires_grad)\n",
    "    def backward(self, grad=1):\n",
    "        self.a.backward(grad=grad)\n",
    "        self.b.backward(grad=grad)\n",
    "\n",
    "class VariableSub(VariableBase):\n",
    "    def forward(self, a, b):\n",
    "        self.a, self.b = self.transform(a), self.transform(b)\n",
    "        rez = self.a.x - self.b.x\n",
    "        reqires_grad = self.a.reqires_grad or self.b.reqires_grad\n",
    "        return Variable(rez, born_fn=self, reqires_grad=reqires_grad)\n",
    "    def backward(self, grad=1):\n",
    "        self.a.backward(grad=grad)\n",
    "        self.b.backward(grad=-grad)\n",
    "\n",
    "class VariableMul(VariableBase):\n",
    "    def forward(self, a, b):\n",
    "        self.a, self.b = self.transform(a), self.transform(b)\n",
    "        rez = self.a.x * self.b.x\n",
    "        reqires_grad = self.a.reqires_grad or self.b.reqires_grad\n",
    "        return Variable(rez, born_fn=self, reqires_grad=reqires_grad)\n",
    "    def backward(self, grad=1):\n",
    "        self.a.backward(grad=grad*self.b.x)\n",
    "        self.b.backward(grad=grad*self.a.x)\n",
    "\n",
    "class VariableDiv(VariableBase):\n",
    "    def forward(self, a, b):\n",
    "        self.a, self.b = self.transform(a), self.transform(b)\n",
    "        rez = self.a.x / self.b.x\n",
    "        reqires_grad = self.a.reqires_grad or self.b.reqires_grad\n",
    "        return Variable(rez, born_fn=self, reqires_grad=reqires_grad)\n",
    "    def backward(self, grad=1):\n",
    "        self.a.backward(grad=grad/self.b.x)\n",
    "        self.b.backward(grad=-grad*self.a.x/(self.b.x**2))\n",
    "\n"
   ]
  },
  {
   "cell_type": "code",
   "execution_count": 108,
   "metadata": {
    "tags": []
   },
   "outputs": [
    {
     "output_type": "execute_result",
     "data": {
      "text/plain": "(0, 2, 0)"
     },
     "metadata": {},
     "execution_count": 108
    }
   ],
   "source": [
    "a = Variable(3)\n",
    "b = Variable(8)\n",
    "c = Variable(19)\n",
    "rez = b*2\n",
    "rez.backward()\n",
    "a.grad, b.grad, c.grad"
   ]
  },
  {
   "cell_type": "code",
   "execution_count": 109,
   "metadata": {
    "tags": []
   },
   "outputs": [
    {
     "output_type": "stream",
     "name": "stdout",
     "text": "Variable( x=12.2 requires_grad=True grad=-22 born_fn=None )\nVariable( x=13.9599 requires_grad=True grad=-17.6 born_fn=None )\nVariable( x=15.3679 requires_grad=True grad=-14.08 born_fn=None )\nVariable( x=16.4944 requires_grad=True grad=-11.264 born_fn=None )\nVariable( x=17.3955 requires_grad=True grad=-9.0112 born_fn=None )\nVariable( x=18.1164 requires_grad=True grad=-7.2089 born_fn=None )\nVariable( x=18.6931 requires_grad=True grad=-5.7671 born_fn=None )\nVariable( x=19.1545 requires_grad=True grad=-4.6137 born_fn=None )\nVariable( x=19.5236 requires_grad=True grad=-3.6909 born_fn=None )\nVariable( x=19.8188 requires_grad=True grad=-2.9527 born_fn=None )\nVariable( x=20.0551 requires_grad=True grad=-2.3622 born_fn=None )\nVariable( x=20.2440 requires_grad=True grad=-1.8897 born_fn=None )\nVariable( x=20.3952 requires_grad=True grad=-1.5118 born_fn=None )\nVariable( x=20.5162 requires_grad=True grad=-1.2094 born_fn=None )\nVariable( x=20.6129 requires_grad=True grad=-0.9675 born_fn=None )\nVariable( x=20.6903 requires_grad=True grad=-0.7740 born_fn=None )\nVariable( x=20.7523 requires_grad=True grad=-0.6192 born_fn=None )\nVariable( x=20.8018 requires_grad=True grad=-0.4953 born_fn=None )\nVariable( x=20.8414 requires_grad=True grad=-0.3963 born_fn=None )\nVariable( x=20.8731 requires_grad=True grad=-0.3170 born_fn=None )\nVariable( x=20.8985 requires_grad=True grad=-0.2536 born_fn=None )\nVariable( x=20.9188 requires_grad=True grad=-0.2029 born_fn=None )\nVariable( x=20.9350 requires_grad=True grad=-0.1623 born_fn=None )\nVariable( x=20.9480 requires_grad=True grad=-0.1298 born_fn=None )\nVariable( x=20.9584 requires_grad=True grad=-0.1038 born_fn=None )\nVariable( x=20.9667 requires_grad=True grad=-0.0831 born_fn=None )\nVariable( x=20.9734 requires_grad=True grad=-0.0664 born_fn=None )\nVariable( x=20.9787 requires_grad=True grad=-0.0531 born_fn=None )\nVariable( x=20.9829 requires_grad=True grad=-0.0425 born_fn=None )\nVariable( x=20.9863 requires_grad=True grad=-0.0340 born_fn=None )\nVariable( x=20.9891 requires_grad=True grad=-0.0272 born_fn=None )\nVariable( x=20.9912 requires_grad=True grad=-0.0217 born_fn=None )\nVariable( x=20.9930 requires_grad=True grad=-0.0174 born_fn=None )\nVariable( x=20.9944 requires_grad=True grad=-0.0139 born_fn=None )\nVariable( x=20.9955 requires_grad=True grad=-0.0111 born_fn=None )\nVariable( x=20.9964 requires_grad=True grad=-0.0089 born_fn=None )\nVariable( x=20.9971 requires_grad=True grad=-0.0071 born_fn=None )\nVariable( x=20.9977 requires_grad=True grad=-0.0057 born_fn=None )\nVariable( x=20.9981 requires_grad=True grad=-0.0045 born_fn=None )\nVariable( x=20.9985 requires_grad=True grad=-0.0036 born_fn=None )\nVariable( x=20.9988 requires_grad=True grad=-0.0029 born_fn=None )\nVariable( x=20.9990 requires_grad=True grad=-0.0023 born_fn=None )\nVariable( x=20.9992 requires_grad=True grad=-0.0018 born_fn=None )\nVariable( x=20.9994 requires_grad=True grad=-0.0014 born_fn=None )\nVariable( x=20.9995 requires_grad=True grad=-0.0011 born_fn=None )\nVariable( x=20.9996 requires_grad=True grad=-0.0009 born_fn=None )\nVariable( x=20.9996 requires_grad=True grad=-0.0007 born_fn=None )\nVariable( x=20.9997 requires_grad=True grad=-0.0006 born_fn=None )\nVariable( x=20.9998 requires_grad=True grad=-0.0004 born_fn=None )\nVariable( x=20.9998 requires_grad=True grad=-0.0003 born_fn=None )\nVariable( x=20.9998 requires_grad=True grad=-0.0003 born_fn=None )\nVariable( x=20.9998 requires_grad=True grad=-0.0002 born_fn=None )\nVariable( x=20.9999 requires_grad=True grad=-0.0002 born_fn=None )\nVariable( x=20.9999 requires_grad=True grad=-0.0001 born_fn=None )\nVariable( x=20.9999 requires_grad=True grad=-0.0001 born_fn=None )\nVariable( x=20.9999 requires_grad=True grad=-0.0001 born_fn=None )\nVariable( x=20.9999 requires_grad=True grad=-8.2311 born_fn=None )\nVariable( x=20.9999 requires_grad=True grad=-6.5849 born_fn=None )\nVariable( x=20.9999 requires_grad=True grad=-5.2679 born_fn=None )\nVariable( x=20.9999 requires_grad=True grad=-4.2143 born_fn=None )\nVariable( x=20.9999 requires_grad=True grad=-3.3714 born_fn=None )\nVariable( x=20.9999 requires_grad=True grad=-2.6971 born_fn=None )\nVariable( x=20.9999 requires_grad=True grad=-2.1577 born_fn=None )\nVariable( x=20.9999 requires_grad=True grad=-1.7262 born_fn=None )\nVariable( x=20.9999 requires_grad=True grad=-1.3809 born_fn=None )\nVariable( x=20.9999 requires_grad=True grad=-1.1047 born_fn=None )\nVariable( x=20.9999 requires_grad=True grad=-8.8381 born_fn=None )\nVariable( x=20.9999 requires_grad=True grad=-7.0705 born_fn=None )\nVariable( x=20.9999 requires_grad=True grad=-5.6564 born_fn=None )\nVariable( x=20.9999 requires_grad=True grad=-4.5251 born_fn=None )\nVariable( x=20.9999 requires_grad=True grad=-3.6201 born_fn=None )\nVariable( x=20.9999 requires_grad=True grad=-2.8960 born_fn=None )\nVariable( x=20.9999 requires_grad=True grad=-2.3168 born_fn=None )\nVariable( x=20.9999 requires_grad=True grad=-1.8534 born_fn=None )\nVariable( x=20.9999 requires_grad=True grad=-1.4827 born_fn=None )\nVariable( x=20.9999 requires_grad=True grad=-1.1862 born_fn=None )\nVariable( x=20.9999 requires_grad=True grad=-9.4899 born_fn=None )\nVariable( x=20.9999 requires_grad=True grad=-7.5919 born_fn=None )\nVariable( x=20.9999 requires_grad=True grad=-6.0735 born_fn=None )\nVariable( x=20.9999 requires_grad=True grad=-4.8588 born_fn=None )\nVariable( x=20.9999 requires_grad=True grad=-3.8870 born_fn=None )\nVariable( x=20.9999 requires_grad=True grad=-3.1096 born_fn=None )\nVariable( x=20.9999 requires_grad=True grad=-2.4877 born_fn=None )\nVariable( x=20.9999 requires_grad=True grad=-1.9901 born_fn=None )\nVariable( x=20.9999 requires_grad=True grad=-1.5921 born_fn=None )\nVariable( x=20.9999 requires_grad=True grad=-1.2737 born_fn=None )\nVariable( x=20.9999 requires_grad=True grad=-1.0189 born_fn=None )\nVariable( x=20.9999 requires_grad=True grad=-8.1517 born_fn=None )\nVariable( x=20.9999 requires_grad=True grad=-6.5214 born_fn=None )\nVariable( x=20.9999 requires_grad=True grad=-5.2171 born_fn=None )\nVariable( x=20.9999 requires_grad=True grad=-4.1737 born_fn=None )\nVariable( x=20.9999 requires_grad=True grad=-3.3389 born_fn=None )\nVariable( x=20.9999 requires_grad=True grad=-2.6711 born_fn=None )\nVariable( x=20.9999 requires_grad=True grad=-2.1369 born_fn=None )\nVariable( x=20.9999 requires_grad=True grad=-1.7095 born_fn=None )\nVariable( x=20.9999 requires_grad=True grad=-1.3676 born_fn=None )\nVariable( x=20.9999 requires_grad=True grad=-1.0941 born_fn=None )\nVariable( x=20.9999 requires_grad=True grad=-8.7528 born_fn=None )\nVariable( x=20.9999 requires_grad=True grad=-7.0023 born_fn=None )\nVariable( x=20.9999 requires_grad=True grad=-5.6018 born_fn=None )\n"
    },
    {
     "output_type": "execute_result",
     "data": {
      "text/plain": "Variable( x=20.9999 requires_grad=True grad=0 born_fn=None )"
     },
     "metadata": {},
     "execution_count": 109
    }
   ],
   "source": [
    "lr = 0.1\n",
    "x = Variable(10)\n",
    "for i in range(100):\n",
    "    rez = (x-34)*(x-8)\n",
    "    rez.backward()\n",
    "    x.x -= lr*x.grad\n",
    "    print(x)\n",
    "    x.grad = 0\n",
    "x"
   ]
  },
  {
   "cell_type": "code",
   "execution_count": null,
   "metadata": {},
   "outputs": [],
   "source": []
  }
 ]
}